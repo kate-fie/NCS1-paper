{
 "cells": [
  {
   "cell_type": "code",
   "execution_count": null,
   "id": "f72f0a46",
   "metadata": {},
   "outputs": [],
   "source": [
    "# Environment Requirements\n",
    "# This notebook requires Python 3.10\n",
    "# Check your Python version\n",
    "import sys\n",
    "print(f\"Python version: {sys.version}\")\n",
    "\n",
    "# Check syndirella version (must be >=4.0.0)\n",
    "!pip show syndirella\n",
    "\n",
    "import os\n",
    "import glob2\n",
    "\n",
    "import pandas as pd\n",
    "from rdkit import Chem\n",
    "from rdkit.Chem import Draw\n",
    "\n",
    "# install syndirella if not already installed\n",
    "#! pip install --upgrade syndirella\n",
    "\n",
    "# install aizynth model files if not already installed\n",
    "# !syndirella setup-aizynth"
   ]
  },
  {
   "cell_type": "markdown",
   "id": "fa5ec098",
   "metadata": {},
   "source": [
    "# RUN"
   ]
  },
  {
   "cell_type": "code",
   "execution_count": null,
   "id": "44c56a35",
   "metadata": {},
   "outputs": [],
   "source": [
    "# Run the pipeline with absolute paths, should take ~5 minutes (specifying a reduced batch_num and atom_diff_max for example purposes)\n",
    "!syndirella run -i $(pwd)/input.csv -o $(pwd)/output -t $(pwd)/data/ --hits_path $(pwd)/data/NCS1_combined.sdf --metadata $(pwd)/data/metadata.csv --batch_num 5 --atom_diff_max 5"
   ]
  },
  {
   "cell_type": "markdown",
   "id": "bdce3d5b",
   "metadata": {},
   "source": [
    "# VIEW OUTPUT"
   ]
  },
  {
   "cell_type": "code",
   "execution_count": null,
   "id": "7f0f9024",
   "metadata": {},
   "outputs": [],
   "source": [
    "to_hippo_path =  glob2.glob('output/**/*_to_hippo.pkl.gz')[0]# replace with something like this: output/OQOLMCJQPJBXLR-UHFFFAOYSA-N/OQOLMCJQPJBXLR-UHFFFAOYSA-N_b45Xnu_to_hippo.pkl.gz\n",
    "df = pd.read_pickle(to_hippo_path)\n",
    "df"
   ]
  }
 ],
 "metadata": {
  "kernelspec": {
   "display_name": "syndirella",
   "language": "python",
   "name": "python3"
  },
  "language_info": {
   "codemirror_mode": {
    "name": "ipython",
    "version": 3
   },
   "file_extension": ".py",
   "mimetype": "text/x-python",
   "name": "python",
   "nbconvert_exporter": "python",
   "pygments_lexer": "ipython3",
   "version": "3.10.18"
  }
 },
 "nbformat": 4,
 "nbformat_minor": 5
}
